{
 "cells": [
  {
   "cell_type": "code",
   "execution_count": null,
   "id": "3f118eee",
   "metadata": {},
   "outputs": [],
   "source": [
    "import os\n",
    "#os.environ['LOGS_DIRECTORY'] = '../eval_logs'\n",
    "os.environ['LOGS_DIRECTORY'] = './logs'\n",
    "\n",
    "import sys\n",
    "sys.path.insert(0, '..')"
   ]
  },
  {
   "cell_type": "code",
   "execution_count": null,
   "id": "9b5893ff",
   "metadata": {},
   "outputs": [],
   "source": [
    "import json\n",
    "import random\n",
    "\n",
    "from tqdm.auto import tqdm\n",
    "from pydantic import BaseModel\n",
    "from pydantic_ai import Agent\n",
    "\n",
    "from main import initialize_index, initialize_agent\n",
    "from logs import log_interaction_to_file, LOG_DIR"
   ]
  },
  {
   "cell_type": "code",
   "execution_count": null,
   "id": "4fd4b630",
   "metadata": {},
   "outputs": [],
   "source": [
    "LOG_DIR.absolute()"
   ]
  },
  {
   "cell_type": "code",
   "execution_count": null,
   "id": "b5e90d50",
   "metadata": {},
   "outputs": [],
   "source": [
    "index = initialize_index()\n",
    "agent = initialize_agent(index)"
   ]
  },
  {
   "cell_type": "code",
   "execution_count": null,
   "id": "428792c8",
   "metadata": {},
   "outputs": [],
   "source": [
    "import os\n",
    "from dotenv import load_dotenv\n",
    "load_dotenv()\n",
    "# print(os.environ.get(\"GROQ_API_KEY\"))\n",
    "\n",
    "question_generation_prompt = \"\"\"\n",
    "You are helping to create test questions for an AI agent that answers questions about a data engineering course.\n",
    "\n",
    "Based on the provided FAQ content, generate realistic questions that students might ask.\n",
    "\n",
    "The questions should:\n",
    "\n",
    "- Be natural and varied in style\n",
    "- Range from simple to complex\n",
    "- Include both specific technical questions and general course questions\n",
    "\n",
    "Generate one question for each record.\n",
    "\"\"\".strip()\n",
    "\n",
    "class QuestionsList(BaseModel):\n",
    "    questions: list[str]\n",
    "\n",
    "question_generator = Agent(\n",
    "    name=\"question_generator\",\n",
    "    instructions=question_generation_prompt,\n",
    "    model='groq:llama-3.1-8b-instant'\n",
    "    output_type=QuestionsList\n",
    ")"
   ]
  },
  {
   "cell_type": "code",
   "execution_count": null,
   "id": "befe8425",
   "metadata": {},
   "outputs": [],
   "source": [
    "sample = random.sample(index.docs, 10)\n",
    "prompt = [d['content'] for d in sample]"
   ]
  },
  {
   "cell_type": "code",
   "execution_count": null,
   "id": "97b2dcfa",
   "metadata": {},
   "outputs": [],
   "source": [
    "result = await question_generator.run(user_prompt=json.dumps(prompt))\n",
    "question_list = result.output"
   ]
  },
  {
   "cell_type": "code",
   "execution_count": null,
   "id": "83601814",
   "metadata": {},
   "outputs": [],
   "source": [
    "for question in tqdm(question_list.questions):\n",
    "    print(question)\n",
    "    result = await agent.run(user_prompt=question)\n",
    "    print(result.output)\n",
    "    log_interaction_to_file(agent, result.new_messages(), source='ai-generated')\n",
    "    print()"
   ]
  },
  {
   "cell_type": "code",
   "execution_count": null,
   "id": "d214363c",
   "metadata": {},
   "outputs": [],
   "source": []
  },
  {
   "cell_type": "code",
   "execution_count": null,
   "id": "81b9b8b3",
   "metadata": {},
   "outputs": [],
   "source": []
  }
 ],
 "metadata": {
  "kernelspec": {
   "display_name": "7-days-ai-agents-email-crash-course (3.12.1)",
   "language": "python",
   "name": "python3"
  },
  "language_info": {
   "name": "python",
   "version": "3.12.1"
  }
 },
 "nbformat": 4,
 "nbformat_minor": 5
}
