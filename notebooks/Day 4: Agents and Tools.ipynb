{
 "cells": [
  {
   "cell_type": "markdown",
   "id": "5e522add",
   "metadata": {},
   "source": [
    "# Day 4: Agents and Tools\n"
   ]
  },
  {
   "cell_type": "code",
   "execution_count": 18,
   "id": "46fb0ebf",
   "metadata": {},
   "outputs": [
    {
     "name": "stdout",
     "output_type": "stream",
     "text": [
      "You're eager to start. Unfortunately, I'm a large language model, I don't have the ability to host or manage courses. This is a chat-based interface where we can discuss a wide range of topics, but I don't have specific courses or programs to enroll in.\n",
      "\n",
      "However, if you're looking to learn something new or explore a particular topic, I'd be happy to help facilitate a conversation and provide information or resources to get you started! What subject or topic are you interested in learning more about?\n"
     ]
    }
   ],
   "source": [
    "from openai import OpenAI\n",
    "import os\n",
    "from dotenv import load_dotenv\n",
    "\n",
    "# Load environment variables from .env file\n",
    "load_dotenv()\n",
    "\n",
    "openai_client = OpenAI(\n",
    "    base_url=\"https://api.groq.com/openai/v1\",\n",
    "    api_key=os.environ.get(\"GROQ_API_KEY\")\n",
    ")\n",
    "\n",
    "user_prompt = \"I just discovered the course, can I join now?\"\n",
    "\n",
    "chat_messages = [\n",
    "    {\"role\": \"user\", \"content\": user_prompt}\n",
    "]\n",
    "\n",
    "response = openai_client.responses.create(\n",
    "    model='llama-3.1-8b-instant',\n",
    "    input=chat_messages,\n",
    ")\n",
    "\n",
    "print(response.output_text)\n"
   ]
  },
  {
   "cell_type": "code",
   "execution_count": 19,
   "id": "be39eca9",
   "metadata": {},
   "outputs": [],
   "source": [
    "import io\n",
    "import zipfile\n",
    "import requests\n",
    "import frontmatter\n",
    "\n",
    "def read_repo_data(repo_owner, repo_name):\n",
    "    \"\"\"\n",
    "    Download and parse all markdown files from a GitHub repository.\n",
    "    \n",
    "    Args:\n",
    "        repo_owner: GitHub username or organization\n",
    "        repo_name: Repository name\n",
    "    \n",
    "    Returns:\n",
    "        List of dictionaries containing file content and metadata\n",
    "    \"\"\"\n",
    "    prefix = 'https://codeload.github.com' \n",
    "    url = f'{prefix}/{repo_owner}/{repo_name}/zip/refs/heads/main'\n",
    "    resp = requests.get(url)\n",
    "    \n",
    "    if resp.status_code != 200:\n",
    "        raise Exception(f\"Failed to download repository: {resp.status_code}\")\n",
    "\n",
    "    repository_data = []\n",
    "    zf = zipfile.ZipFile(io.BytesIO(resp.content))\n",
    "    \n",
    "    for file_info in zf.infolist():\n",
    "        filename = file_info.filename\n",
    "        filename_lower = filename.lower()\n",
    "\n",
    "        if not (filename_lower.endswith('.md') \n",
    "            or filename_lower.endswith('.mdx')):\n",
    "            continue\n",
    "    \n",
    "        try:\n",
    "            with zf.open(file_info) as f_in:\n",
    "                content = f_in.read().decode('utf-8', errors='ignore')\n",
    "                post = frontmatter.loads(content)\n",
    "                data = post.to_dict()\n",
    "                data['filename'] = filename\n",
    "                repository_data.append(data)\n",
    "        except Exception as e:\n",
    "            print(f\"Error processing {filename}: {e}\")\n",
    "            continue\n",
    "    \n",
    "    zf.close()\n",
    "    return repository_data\n",
    "\n",
    "\n",
    "\n",
    "\n",
    "from minsearch import Index\n",
    "\n",
    "dtc_faq = read_repo_data('DataTalksClub', 'faq')\n",
    "\n",
    "de_dtc_faq = [d for d in dtc_faq if 'data-engineering' in d['filename']]\n",
    "\n",
    "faq_index = Index(\n",
    "    text_fields=[\"question\", \"content\"],\n",
    "    keyword_fields=[]\n",
    ")\n",
    "\n",
    "\n",
    "def text_search(query):\n",
    "    return faq_index.search(query, num_results=5)\n"
   ]
  },
  {
   "cell_type": "code",
   "execution_count": 20,
   "id": "2d1c3911",
   "metadata": {},
   "outputs": [],
   "source": [
    "text_search_tool = {\n",
    "    \"type\": \"function\",\n",
    "    \"name\": \"text_search\",\n",
    "    \"description\": \"Search the FAQ database\",\n",
    "    \"parameters\": {\n",
    "        \"type\": \"object\",\n",
    "        \"properties\": {\n",
    "            \"query\": {\n",
    "                \"type\": \"string\",\n",
    "                \"description\": \"Search query text to look up in the course FAQ.\"\n",
    "            }\n",
    "        },\n",
    "        \"required\": [\"query\"],\n",
    "        \"additionalProperties\": False\n",
    "    }\n",
    "}\n"
   ]
  },
  {
   "cell_type": "code",
   "execution_count": 21,
   "id": "b4321add",
   "metadata": {},
   "outputs": [],
   "source": [
    "system_prompt = \"\"\"\n",
    "You are a helpful assistant for a course. \n",
    "\"\"\"\n",
    "\n",
    "question = \"I just discovered the course, can I join now?\"\n",
    "\n",
    "chat_messages = [\n",
    "    {\"role\": \"system\", \"content\": system_prompt},\n",
    "    {\"role\": \"user\", \"content\": question}\n",
    "]\n",
    "\n",
    "response = openai_client.responses.create(\n",
    "    model='llama-3.1-8b-instant',\n",
    "    input=chat_messages,\n",
    "    tools=[text_search_tool]\n",
    ")\n"
   ]
  },
  {
   "cell_type": "code",
   "execution_count": 22,
   "id": "af71c7cb",
   "metadata": {},
   "outputs": [
    {
     "ename": "AttributeError",
     "evalue": "'ResponseReasoningItem' object has no attribute 'arguments'",
     "output_type": "error",
     "traceback": [
      "\u001b[31m---------------------------------------------------------------------------\u001b[39m",
      "\u001b[31mAttributeError\u001b[39m                            Traceback (most recent call last)",
      "\u001b[36mCell\u001b[39m\u001b[36m \u001b[39m\u001b[32mIn[22]\u001b[39m\u001b[32m, line 5\u001b[39m\n\u001b[32m      1\u001b[39m \u001b[38;5;28;01mimport\u001b[39;00m\u001b[38;5;250m \u001b[39m\u001b[34;01mjson\u001b[39;00m\n\u001b[32m      3\u001b[39m call = response.output[\u001b[32m0\u001b[39m]\n\u001b[32m----> \u001b[39m\u001b[32m5\u001b[39m arguments = json.loads(\u001b[43mcall\u001b[49m\u001b[43m.\u001b[49m\u001b[43marguments\u001b[49m)\n\u001b[32m      6\u001b[39m result = text_search(**arguments)\n\u001b[32m      8\u001b[39m call_output = {\n\u001b[32m      9\u001b[39m     \u001b[33m\"\u001b[39m\u001b[33mtype\u001b[39m\u001b[33m\"\u001b[39m: \u001b[33m\"\u001b[39m\u001b[33mfunction_call_output\u001b[39m\u001b[33m\"\u001b[39m,\n\u001b[32m     10\u001b[39m     \u001b[33m\"\u001b[39m\u001b[33mcall_id\u001b[39m\u001b[33m\"\u001b[39m: call.call_id,\n\u001b[32m     11\u001b[39m     \u001b[33m\"\u001b[39m\u001b[33moutput\u001b[39m\u001b[33m\"\u001b[39m: json.dumps(result),\n\u001b[32m     12\u001b[39m }\n",
      "\u001b[36mFile \u001b[39m\u001b[32m/usr/local/python/3.12.1/lib/python3.12/site-packages/pydantic/main.py:991\u001b[39m, in \u001b[36mBaseModel.__getattr__\u001b[39m\u001b[34m(self, item)\u001b[39m\n\u001b[32m    988\u001b[39m     \u001b[38;5;28;01mreturn\u001b[39;00m \u001b[38;5;28msuper\u001b[39m().\u001b[34m__getattribute__\u001b[39m(item)  \u001b[38;5;66;03m# Raises AttributeError if appropriate\u001b[39;00m\n\u001b[32m    989\u001b[39m \u001b[38;5;28;01melse\u001b[39;00m:\n\u001b[32m    990\u001b[39m     \u001b[38;5;66;03m# this is the current error\u001b[39;00m\n\u001b[32m--> \u001b[39m\u001b[32m991\u001b[39m     \u001b[38;5;28;01mraise\u001b[39;00m \u001b[38;5;167;01mAttributeError\u001b[39;00m(\u001b[33mf\u001b[39m\u001b[33m'\u001b[39m\u001b[38;5;132;01m{\u001b[39;00m\u001b[38;5;28mtype\u001b[39m(\u001b[38;5;28mself\u001b[39m).\u001b[34m__name__\u001b[39m\u001b[38;5;132;01m!r}\u001b[39;00m\u001b[33m object has no attribute \u001b[39m\u001b[38;5;132;01m{\u001b[39;00mitem\u001b[38;5;132;01m!r}\u001b[39;00m\u001b[33m'\u001b[39m)\n",
      "\u001b[31mAttributeError\u001b[39m: 'ResponseReasoningItem' object has no attribute 'arguments'"
     ]
    }
   ],
   "source": [
    "import json\n",
    "\n",
    "call = response.output[0]\n",
    "\n",
    "arguments = json.loads(call.arguments)\n",
    "result = text_search(**arguments)\n",
    "\n",
    "call_output = {\n",
    "    \"type\": \"function_call_output\",\n",
    "    \"call_id\": call.call_id,\n",
    "    \"output\": json.dumps(result),\n",
    "}\n"
   ]
  },
  {
   "cell_type": "code",
   "execution_count": null,
   "id": "6f8003f0",
   "metadata": {},
   "outputs": [
    {
     "ename": "NameError",
     "evalue": "name 'call_output' is not defined",
     "output_type": "error",
     "traceback": [
      "\u001b[31m---------------------------------------------------------------------------\u001b[39m",
      "\u001b[31mNameError\u001b[39m                                 Traceback (most recent call last)",
      "\u001b[36mCell\u001b[39m\u001b[36m \u001b[39m\u001b[32mIn[13]\u001b[39m\u001b[32m, line 2\u001b[39m\n\u001b[32m      1\u001b[39m chat_messages.append(call)\n\u001b[32m----> \u001b[39m\u001b[32m2\u001b[39m chat_messages.append(\u001b[43mcall_output\u001b[49m)\n\u001b[32m      4\u001b[39m response = openai_client.responses.create(\n\u001b[32m      5\u001b[39m     model=\u001b[33m'\u001b[39m\u001b[33mllama-3.1-8b-instant\u001b[39m\u001b[33m'\u001b[39m,\n\u001b[32m      6\u001b[39m     \u001b[38;5;28minput\u001b[39m=chat_messages,\n\u001b[32m      7\u001b[39m     tools=[text_search_tool]\n\u001b[32m      8\u001b[39m )\n\u001b[32m     10\u001b[39m \u001b[38;5;28mprint\u001b[39m(response.output_text)\n",
      "\u001b[31mNameError\u001b[39m: name 'call_output' is not defined"
     ]
    }
   ],
   "source": [
    "chat_messages.append(call)\n",
    "chat_messages.append(call_output)\n",
    "\n",
    "response = openai_client.responses.create(\n",
    "    model='llama-3.1-8b-instant',\n",
    "    input=chat_messages,\n",
    "    tools=[text_search_tool]\n",
    ")\n",
    "\n",
    "print(response.output_text)\n"
   ]
  },
  {
   "cell_type": "code",
   "execution_count": null,
   "id": "e2eac462",
   "metadata": {},
   "outputs": [],
   "source": [
    "from typing import List, Any\n",
    "\n",
    "def text_search(query: str) -> List[Any]:\n",
    "    \"\"\"\n",
    "    Perform a text-based search on the FAQ index.\n",
    "\n",
    "    Args:\n",
    "        query (str): The search query string.\n",
    "\n",
    "    Returns:\n",
    "        List[Any]: A list of up to 5 search results returned by the FAQ index.\n",
    "    \"\"\"\n",
    "    return faq_index.search(query, num_results=5)\n"
   ]
  },
  {
   "cell_type": "code",
   "execution_count": null,
   "id": "3d74403e",
   "metadata": {},
   "outputs": [],
   "source": [
    "from pydantic_ai import Agent\n",
    "\n",
    "agent = Agent(\n",
    "    name=\"faq_agent\",\n",
    "    instructions=system_prompt,\n",
    "    tools=[text_search],\n",
    "    model='groq:llama-3.3-70b-versatile'\n",
    ")\n"
   ]
  },
  {
   "cell_type": "code",
   "execution_count": null,
   "id": "96a6c06d",
   "metadata": {},
   "outputs": [
    {
     "ename": "NameError",
     "evalue": "name 'faq_index' is not defined",
     "output_type": "error",
     "traceback": [
      "\u001b[31m---------------------------------------------------------------------------\u001b[39m",
      "\u001b[31mNameError\u001b[39m                                 Traceback (most recent call last)",
      "\u001b[36mCell\u001b[39m\u001b[36m \u001b[39m\u001b[32mIn[16]\u001b[39m\u001b[32m, line 3\u001b[39m\n\u001b[32m      1\u001b[39m question = \u001b[33m\"\u001b[39m\u001b[33mI just discovered the course, can I join now?\u001b[39m\u001b[33m\"\u001b[39m\n\u001b[32m----> \u001b[39m\u001b[32m3\u001b[39m result = \u001b[38;5;28;01mawait\u001b[39;00m agent.run(user_prompt=question)\n",
      "\u001b[36mFile \u001b[39m\u001b[32m/usr/local/python/3.12.1/lib/python3.12/site-packages/pydantic_ai/agent/abstract.py:218\u001b[39m, in \u001b[36mAbstractAgent.run\u001b[39m\u001b[34m(self, user_prompt, output_type, message_history, deferred_tool_results, model, deps, model_settings, usage_limits, usage, infer_name, toolsets, event_stream_handler)\u001b[39m\n\u001b[32m    204\u001b[39m event_stream_handler = event_stream_handler \u001b[38;5;129;01mor\u001b[39;00m \u001b[38;5;28mself\u001b[39m.event_stream_handler\n\u001b[32m    206\u001b[39m \u001b[38;5;28;01masync\u001b[39;00m \u001b[38;5;28;01mwith\u001b[39;00m \u001b[38;5;28mself\u001b[39m.iter(\n\u001b[32m    207\u001b[39m     user_prompt=user_prompt,\n\u001b[32m    208\u001b[39m     output_type=output_type,\n\u001b[32m   (...)\u001b[39m\u001b[32m    216\u001b[39m     toolsets=toolsets,\n\u001b[32m    217\u001b[39m ) \u001b[38;5;28;01mas\u001b[39;00m agent_run:\n\u001b[32m--> \u001b[39m\u001b[32m218\u001b[39m     \u001b[38;5;28;01masync\u001b[39;00m \u001b[38;5;28;01mfor\u001b[39;00m node \u001b[38;5;129;01min\u001b[39;00m agent_run:\n\u001b[32m    219\u001b[39m         \u001b[38;5;28;01mif\u001b[39;00m event_stream_handler \u001b[38;5;129;01mis\u001b[39;00m \u001b[38;5;129;01mnot\u001b[39;00m \u001b[38;5;28;01mNone\u001b[39;00m \u001b[38;5;129;01mand\u001b[39;00m (\n\u001b[32m    220\u001b[39m             \u001b[38;5;28mself\u001b[39m.is_model_request_node(node) \u001b[38;5;129;01mor\u001b[39;00m \u001b[38;5;28mself\u001b[39m.is_call_tools_node(node)\n\u001b[32m    221\u001b[39m         ):\n\u001b[32m    222\u001b[39m             \u001b[38;5;28;01masync\u001b[39;00m \u001b[38;5;28;01mwith\u001b[39;00m node.stream(agent_run.ctx) \u001b[38;5;28;01mas\u001b[39;00m stream:\n",
      "\u001b[36mFile \u001b[39m\u001b[32m/usr/local/python/3.12.1/lib/python3.12/site-packages/pydantic_ai/run.py:149\u001b[39m, in \u001b[36mAgentRun.__anext__\u001b[39m\u001b[34m(self)\u001b[39m\n\u001b[32m    145\u001b[39m \u001b[38;5;28;01masync\u001b[39;00m \u001b[38;5;28;01mdef\u001b[39;00m\u001b[38;5;250m \u001b[39m\u001b[34m__anext__\u001b[39m(\n\u001b[32m    146\u001b[39m     \u001b[38;5;28mself\u001b[39m,\n\u001b[32m    147\u001b[39m ) -> _agent_graph.AgentNode[AgentDepsT, OutputDataT] | End[FinalResult[OutputDataT]]:\n\u001b[32m    148\u001b[39m \u001b[38;5;250m    \u001b[39m\u001b[33;03m\"\"\"Advance to the next node automatically based on the last returned node.\"\"\"\u001b[39;00m\n\u001b[32m--> \u001b[39m\u001b[32m149\u001b[39m     next_node = \u001b[38;5;28;01mawait\u001b[39;00m \u001b[38;5;28mself\u001b[39m._graph_run.\u001b[34m__anext__\u001b[39m()\n\u001b[32m    150\u001b[39m     \u001b[38;5;28;01mif\u001b[39;00m _agent_graph.is_agent_node(node=next_node):\n\u001b[32m    151\u001b[39m         \u001b[38;5;28;01mreturn\u001b[39;00m next_node\n",
      "\u001b[36mFile \u001b[39m\u001b[32m/usr/local/python/3.12.1/lib/python3.12/site-packages/pydantic_graph/graph.py:758\u001b[39m, in \u001b[36mGraphRun.__anext__\u001b[39m\u001b[34m(self)\u001b[39m\n\u001b[32m    755\u001b[39m \u001b[38;5;28;01mif\u001b[39;00m \u001b[38;5;28misinstance\u001b[39m(\u001b[38;5;28mself\u001b[39m._next_node, End):\n\u001b[32m    756\u001b[39m     \u001b[38;5;28;01mraise\u001b[39;00m \u001b[38;5;167;01mStopAsyncIteration\u001b[39;00m\n\u001b[32m--> \u001b[39m\u001b[32m758\u001b[39m \u001b[38;5;28;01mreturn\u001b[39;00m \u001b[38;5;28;01mawait\u001b[39;00m \u001b[38;5;28mself\u001b[39m.next(\u001b[38;5;28mself\u001b[39m._next_node)\n",
      "\u001b[36mFile \u001b[39m\u001b[32m/usr/local/python/3.12.1/lib/python3.12/site-packages/pydantic_graph/graph.py:731\u001b[39m, in \u001b[36mGraphRun.next\u001b[39m\u001b[34m(self, node)\u001b[39m\n\u001b[32m    729\u001b[39m     \u001b[38;5;28;01masync\u001b[39;00m \u001b[38;5;28;01mwith\u001b[39;00m \u001b[38;5;28mself\u001b[39m.persistence.record_run(node_snapshot_id):\n\u001b[32m    730\u001b[39m         ctx = GraphRunContext(state=\u001b[38;5;28mself\u001b[39m.state, deps=\u001b[38;5;28mself\u001b[39m.deps)\n\u001b[32m--> \u001b[39m\u001b[32m731\u001b[39m         \u001b[38;5;28mself\u001b[39m._next_node = \u001b[38;5;28;01mawait\u001b[39;00m node.run(ctx)\n\u001b[32m    733\u001b[39m \u001b[38;5;28;01mif\u001b[39;00m \u001b[38;5;28misinstance\u001b[39m(\u001b[38;5;28mself\u001b[39m._next_node, End):\n\u001b[32m    734\u001b[39m     \u001b[38;5;28mself\u001b[39m._snapshot_id = \u001b[38;5;28mself\u001b[39m._next_node.get_snapshot_id()\n",
      "\u001b[36mFile \u001b[39m\u001b[32m/usr/local/python/3.12.1/lib/python3.12/site-packages/pydantic_ai/_agent_graph.py:524\u001b[39m, in \u001b[36mCallToolsNode.run\u001b[39m\u001b[34m(self, ctx)\u001b[39m\n\u001b[32m    521\u001b[39m \u001b[38;5;28;01masync\u001b[39;00m \u001b[38;5;28;01mdef\u001b[39;00m\u001b[38;5;250m \u001b[39m\u001b[34mrun\u001b[39m(\n\u001b[32m    522\u001b[39m     \u001b[38;5;28mself\u001b[39m, ctx: GraphRunContext[GraphAgentState, GraphAgentDeps[DepsT, NodeRunEndT]]\n\u001b[32m    523\u001b[39m ) -> ModelRequestNode[DepsT, NodeRunEndT] | End[result.FinalResult[NodeRunEndT]]:\n\u001b[32m--> \u001b[39m\u001b[32m524\u001b[39m     \u001b[38;5;28;01masync\u001b[39;00m \u001b[38;5;28;01mwith\u001b[39;00m \u001b[38;5;28mself\u001b[39m.stream(ctx):\n\u001b[32m    525\u001b[39m         \u001b[38;5;28;01mpass\u001b[39;00m\n\u001b[32m    526\u001b[39m     \u001b[38;5;28;01massert\u001b[39;00m \u001b[38;5;28mself\u001b[39m._next_node \u001b[38;5;129;01mis\u001b[39;00m \u001b[38;5;129;01mnot\u001b[39;00m \u001b[38;5;28;01mNone\u001b[39;00m, \u001b[33m'\u001b[39m\u001b[33mthe stream should set `self._next_node` before it ends\u001b[39m\u001b[33m'\u001b[39m\n",
      "\u001b[36mFile \u001b[39m\u001b[32m/usr/local/python/3.12.1/lib/python3.12/contextlib.py:217\u001b[39m, in \u001b[36m_AsyncGeneratorContextManager.__aexit__\u001b[39m\u001b[34m(self, typ, value, traceback)\u001b[39m\n\u001b[32m    215\u001b[39m \u001b[38;5;28;01mif\u001b[39;00m typ \u001b[38;5;129;01mis\u001b[39;00m \u001b[38;5;28;01mNone\u001b[39;00m:\n\u001b[32m    216\u001b[39m     \u001b[38;5;28;01mtry\u001b[39;00m:\n\u001b[32m--> \u001b[39m\u001b[32m217\u001b[39m         \u001b[38;5;28;01mawait\u001b[39;00m anext(\u001b[38;5;28mself\u001b[39m.gen)\n\u001b[32m    218\u001b[39m     \u001b[38;5;28;01mexcept\u001b[39;00m \u001b[38;5;167;01mStopAsyncIteration\u001b[39;00m:\n\u001b[32m    219\u001b[39m         \u001b[38;5;28;01mreturn\u001b[39;00m \u001b[38;5;28;01mFalse\u001b[39;00m\n",
      "\u001b[36mFile \u001b[39m\u001b[32m/usr/local/python/3.12.1/lib/python3.12/site-packages/pydantic_ai/_agent_graph.py:538\u001b[39m, in \u001b[36mCallToolsNode.stream\u001b[39m\u001b[34m(self, ctx)\u001b[39m\n\u001b[32m    535\u001b[39m \u001b[38;5;28;01myield\u001b[39;00m stream\n\u001b[32m    537\u001b[39m \u001b[38;5;66;03m# Run the stream to completion if it was not finished:\u001b[39;00m\n\u001b[32m--> \u001b[39m\u001b[32m538\u001b[39m \u001b[38;5;28;01masync\u001b[39;00m \u001b[38;5;28;01mfor\u001b[39;00m _event \u001b[38;5;129;01min\u001b[39;00m stream:\n\u001b[32m    539\u001b[39m     \u001b[38;5;28;01mpass\u001b[39;00m\n",
      "\u001b[36mFile \u001b[39m\u001b[32m/usr/local/python/3.12.1/lib/python3.12/site-packages/pydantic_ai/_agent_graph.py:623\u001b[39m, in \u001b[36mCallToolsNode._run_stream\u001b[39m\u001b[34m(self, ctx)\u001b[39m\n\u001b[32m    619\u001b[39m             \u001b[38;5;28mself\u001b[39m._next_node = ModelRequestNode[DepsT, NodeRunEndT](_messages.ModelRequest(parts=[e.tool_retry]))\n\u001b[32m    621\u001b[39m     \u001b[38;5;28mself\u001b[39m._events_iterator = _run_stream()\n\u001b[32m--> \u001b[39m\u001b[32m623\u001b[39m \u001b[38;5;28;01masync\u001b[39;00m \u001b[38;5;28;01mfor\u001b[39;00m event \u001b[38;5;129;01min\u001b[39;00m \u001b[38;5;28mself\u001b[39m._events_iterator:\n\u001b[32m    624\u001b[39m     \u001b[38;5;28;01myield\u001b[39;00m event\n",
      "\u001b[36mFile \u001b[39m\u001b[32m/usr/local/python/3.12.1/lib/python3.12/site-packages/pydantic_ai/_agent_graph.py:577\u001b[39m, in \u001b[36mCallToolsNode._run_stream.<locals>._run_stream\u001b[39m\u001b[34m()\u001b[39m\n\u001b[32m    575\u001b[39m \u001b[38;5;28;01mtry\u001b[39;00m:\n\u001b[32m    576\u001b[39m     \u001b[38;5;28;01mif\u001b[39;00m tool_calls:\n\u001b[32m--> \u001b[39m\u001b[32m577\u001b[39m         \u001b[38;5;28;01masync\u001b[39;00m \u001b[38;5;28;01mfor\u001b[39;00m event \u001b[38;5;129;01min\u001b[39;00m \u001b[38;5;28mself\u001b[39m._handle_tool_calls(ctx, tool_calls):\n\u001b[32m    578\u001b[39m             \u001b[38;5;28;01myield\u001b[39;00m event\n\u001b[32m    579\u001b[39m     \u001b[38;5;28;01melif\u001b[39;00m text:\n\u001b[32m    580\u001b[39m         \u001b[38;5;66;03m# No events are emitted during the handling of text responses, so we don't need to yield anything\u001b[39;00m\n",
      "\u001b[36mFile \u001b[39m\u001b[32m/usr/local/python/3.12.1/lib/python3.12/site-packages/pydantic_ai/_agent_graph.py:639\u001b[39m, in \u001b[36mCallToolsNode._handle_tool_calls\u001b[39m\u001b[34m(self, ctx, tool_calls)\u001b[39m\n\u001b[32m    636\u001b[39m output_parts: \u001b[38;5;28mlist\u001b[39m[_messages.ModelRequestPart] = []\n\u001b[32m    637\u001b[39m output_final_result: deque[result.FinalResult[NodeRunEndT]] = deque(maxlen=\u001b[32m1\u001b[39m)\n\u001b[32m--> \u001b[39m\u001b[32m639\u001b[39m \u001b[38;5;28;01masync\u001b[39;00m \u001b[38;5;28;01mfor\u001b[39;00m event \u001b[38;5;129;01min\u001b[39;00m process_tool_calls(\n\u001b[32m    640\u001b[39m     tool_manager=ctx.deps.tool_manager,\n\u001b[32m    641\u001b[39m     tool_calls=tool_calls,\n\u001b[32m    642\u001b[39m     tool_call_results=\u001b[38;5;28mself\u001b[39m.tool_call_results,\n\u001b[32m    643\u001b[39m     final_result=\u001b[38;5;28;01mNone\u001b[39;00m,\n\u001b[32m    644\u001b[39m     ctx=ctx,\n\u001b[32m    645\u001b[39m     output_parts=output_parts,\n\u001b[32m    646\u001b[39m     output_final_result=output_final_result,\n\u001b[32m    647\u001b[39m ):\n\u001b[32m    648\u001b[39m     \u001b[38;5;28;01myield\u001b[39;00m event\n\u001b[32m    650\u001b[39m \u001b[38;5;28;01mif\u001b[39;00m output_final_result:\n",
      "\u001b[36mFile \u001b[39m\u001b[32m/usr/local/python/3.12.1/lib/python3.12/site-packages/pydantic_ai/_agent_graph.py:817\u001b[39m, in \u001b[36mprocess_tool_calls\u001b[39m\u001b[34m(tool_manager, tool_calls, tool_call_results, final_result, ctx, output_parts, output_final_result)\u001b[39m\n\u001b[32m    814\u001b[39m deferred_calls: \u001b[38;5;28mdict\u001b[39m[Literal[\u001b[33m'\u001b[39m\u001b[33mexternal\u001b[39m\u001b[33m'\u001b[39m, \u001b[33m'\u001b[39m\u001b[33munapproved\u001b[39m\u001b[33m'\u001b[39m], \u001b[38;5;28mlist\u001b[39m[_messages.ToolCallPart]] = defaultdict(\u001b[38;5;28mlist\u001b[39m)\n\u001b[32m    816\u001b[39m \u001b[38;5;28;01mif\u001b[39;00m calls_to_run:\n\u001b[32m--> \u001b[39m\u001b[32m817\u001b[39m     \u001b[38;5;28;01masync\u001b[39;00m \u001b[38;5;28;01mfor\u001b[39;00m event \u001b[38;5;129;01min\u001b[39;00m _call_tools(\n\u001b[32m    818\u001b[39m         tool_manager=tool_manager,\n\u001b[32m    819\u001b[39m         tool_calls=calls_to_run,\n\u001b[32m    820\u001b[39m         tool_call_results=calls_to_run_results,\n\u001b[32m    821\u001b[39m         tracer=ctx.deps.tracer,\n\u001b[32m    822\u001b[39m         usage_limits=ctx.deps.usage_limits,\n\u001b[32m    823\u001b[39m         output_parts=output_parts,\n\u001b[32m    824\u001b[39m         output_deferred_calls=deferred_calls,\n\u001b[32m    825\u001b[39m     ):\n\u001b[32m    826\u001b[39m         \u001b[38;5;28;01myield\u001b[39;00m event\n\u001b[32m    828\u001b[39m \u001b[38;5;66;03m# Finally, we handle deferred tool calls (unless they were already included in the run because results were provided)\u001b[39;00m\n",
      "\u001b[36mFile \u001b[39m\u001b[32m/usr/local/python/3.12.1/lib/python3.12/site-packages/pydantic_ai/_agent_graph.py:931\u001b[39m, in \u001b[36m_call_tools\u001b[39m\u001b[34m(tool_manager, tool_calls, tool_call_results, tracer, usage_limits, output_parts, output_deferred_calls)\u001b[39m\n\u001b[32m    929\u001b[39m             \u001b[38;5;28;01mfor\u001b[39;00m task \u001b[38;5;129;01min\u001b[39;00m done:\n\u001b[32m    930\u001b[39m                 index = tasks.index(task)\n\u001b[32m--> \u001b[39m\u001b[32m931\u001b[39m                 \u001b[38;5;28;01mif\u001b[39;00m event := \u001b[38;5;28;01mawait\u001b[39;00m handle_call_or_result(coro_or_task=task, index=index):\n\u001b[32m    932\u001b[39m                     \u001b[38;5;28;01myield\u001b[39;00m event\n\u001b[32m    934\u001b[39m \u001b[38;5;66;03m# We append the results at the end, rather than as they are received, to retain a consistent ordering\u001b[39;00m\n\u001b[32m    935\u001b[39m \u001b[38;5;66;03m# This is mostly just to simplify testing\u001b[39;00m\n",
      "\u001b[36mFile \u001b[39m\u001b[32m/usr/local/python/3.12.1/lib/python3.12/site-packages/pydantic_ai/_agent_graph.py:896\u001b[39m, in \u001b[36m_call_tools.<locals>.handle_call_or_result\u001b[39m\u001b[34m(coro_or_task, index)\u001b[39m\n\u001b[32m    887\u001b[39m \u001b[38;5;28;01masync\u001b[39;00m \u001b[38;5;28;01mdef\u001b[39;00m\u001b[38;5;250m \u001b[39m\u001b[34mhandle_call_or_result\u001b[39m(\n\u001b[32m    888\u001b[39m     coro_or_task: Awaitable[\n\u001b[32m    889\u001b[39m         \u001b[38;5;28mtuple\u001b[39m[_messages.ToolReturnPart | _messages.RetryPromptPart, _messages.UserPromptPart | \u001b[38;5;28;01mNone\u001b[39;00m]\n\u001b[32m   (...)\u001b[39m\u001b[32m    892\u001b[39m     index: \u001b[38;5;28mint\u001b[39m,\n\u001b[32m    893\u001b[39m ) -> _messages.HandleResponseEvent | \u001b[38;5;28;01mNone\u001b[39;00m:\n\u001b[32m    894\u001b[39m     \u001b[38;5;28;01mtry\u001b[39;00m:\n\u001b[32m    895\u001b[39m         tool_part, tool_user_part = (\n\u001b[32m--> \u001b[39m\u001b[32m896\u001b[39m             (\u001b[38;5;28;01mawait\u001b[39;00m coro_or_task) \u001b[38;5;28;01mif\u001b[39;00m inspect.isawaitable(coro_or_task) \u001b[38;5;28;01melse\u001b[39;00m coro_or_task.result()\n\u001b[32m    897\u001b[39m         )\n\u001b[32m    898\u001b[39m     \u001b[38;5;28;01mexcept\u001b[39;00m exceptions.CallDeferred:\n\u001b[32m    899\u001b[39m         deferred_calls_by_index[index] = \u001b[33m'\u001b[39m\u001b[33mexternal\u001b[39m\u001b[33m'\u001b[39m\n",
      "\u001b[36mFile \u001b[39m\u001b[32m/usr/local/python/3.12.1/lib/python3.12/site-packages/pydantic_ai/_agent_graph.py:951\u001b[39m, in \u001b[36m_call_tool\u001b[39m\u001b[34m(tool_manager, tool_call, tool_call_result, usage_limits)\u001b[39m\n\u001b[32m    949\u001b[39m \u001b[38;5;28;01mtry\u001b[39;00m:\n\u001b[32m    950\u001b[39m     \u001b[38;5;28;01mif\u001b[39;00m tool_call_result \u001b[38;5;129;01mis\u001b[39;00m \u001b[38;5;28;01mNone\u001b[39;00m:\n\u001b[32m--> \u001b[39m\u001b[32m951\u001b[39m         tool_result = \u001b[38;5;28;01mawait\u001b[39;00m tool_manager.handle_call(tool_call, usage_limits=usage_limits)\n\u001b[32m    952\u001b[39m     \u001b[38;5;28;01melif\u001b[39;00m \u001b[38;5;28misinstance\u001b[39m(tool_call_result, ToolApproved):\n\u001b[32m    953\u001b[39m         \u001b[38;5;28;01mif\u001b[39;00m tool_call_result.override_args \u001b[38;5;129;01mis\u001b[39;00m \u001b[38;5;129;01mnot\u001b[39;00m \u001b[38;5;28;01mNone\u001b[39;00m:\n",
      "\u001b[36mFile \u001b[39m\u001b[32m/usr/local/python/3.12.1/lib/python3.12/site-packages/pydantic_ai/_tool_manager.py:112\u001b[39m, in \u001b[36mToolManager.handle_call\u001b[39m\u001b[34m(self, call, allow_partial, wrap_validation_errors, usage_limits)\u001b[39m\n\u001b[32m    110\u001b[39m     \u001b[38;5;28;01mreturn\u001b[39;00m \u001b[38;5;28;01mawait\u001b[39;00m \u001b[38;5;28mself\u001b[39m._call_tool(call, allow_partial, wrap_validation_errors, count_tool_usage=\u001b[38;5;28;01mFalse\u001b[39;00m)\n\u001b[32m    111\u001b[39m \u001b[38;5;28;01melse\u001b[39;00m:\n\u001b[32m--> \u001b[39m\u001b[32m112\u001b[39m     \u001b[38;5;28;01mreturn\u001b[39;00m \u001b[38;5;28;01mawait\u001b[39;00m \u001b[38;5;28mself\u001b[39m._call_tool_traced(\n\u001b[32m    113\u001b[39m         call,\n\u001b[32m    114\u001b[39m         allow_partial,\n\u001b[32m    115\u001b[39m         wrap_validation_errors,\n\u001b[32m    116\u001b[39m         \u001b[38;5;28mself\u001b[39m.ctx.tracer,\n\u001b[32m    117\u001b[39m         \u001b[38;5;28mself\u001b[39m.ctx.trace_include_content,\n\u001b[32m    118\u001b[39m         usage_limits,\n\u001b[32m    119\u001b[39m     )\n",
      "\u001b[36mFile \u001b[39m\u001b[32m/usr/local/python/3.12.1/lib/python3.12/site-packages/pydantic_ai/_tool_manager.py:237\u001b[39m, in \u001b[36mToolManager._call_tool_traced\u001b[39m\u001b[34m(self, call, allow_partial, wrap_validation_errors, tracer, include_content, usage_limits)\u001b[39m\n\u001b[32m    235\u001b[39m \u001b[38;5;28;01mwith\u001b[39;00m tracer.start_as_current_span(\u001b[33m'\u001b[39m\u001b[33mrunning tool\u001b[39m\u001b[33m'\u001b[39m, attributes=span_attributes) \u001b[38;5;28;01mas\u001b[39;00m span:\n\u001b[32m    236\u001b[39m     \u001b[38;5;28;01mtry\u001b[39;00m:\n\u001b[32m--> \u001b[39m\u001b[32m237\u001b[39m         tool_result = \u001b[38;5;28;01mawait\u001b[39;00m \u001b[38;5;28mself\u001b[39m._call_tool(call, allow_partial, wrap_validation_errors, usage_limits)\n\u001b[32m    238\u001b[39m     \u001b[38;5;28;01mexcept\u001b[39;00m ToolRetryError \u001b[38;5;28;01mas\u001b[39;00m e:\n\u001b[32m    239\u001b[39m         part = e.tool_retry\n",
      "\u001b[36mFile \u001b[39m\u001b[32m/usr/local/python/3.12.1/lib/python3.12/site-packages/pydantic_ai/_tool_manager.py:163\u001b[39m, in \u001b[36mToolManager._call_tool\u001b[39m\u001b[34m(self, call, allow_partial, wrap_validation_errors, usage_limits, count_tool_usage)\u001b[39m\n\u001b[32m    160\u001b[39m \u001b[38;5;28;01mif\u001b[39;00m usage_limits \u001b[38;5;129;01mis\u001b[39;00m \u001b[38;5;129;01mnot\u001b[39;00m \u001b[38;5;28;01mNone\u001b[39;00m \u001b[38;5;129;01mand\u001b[39;00m count_tool_usage:\n\u001b[32m    161\u001b[39m     usage_limits.check_before_tool_call(\u001b[38;5;28mself\u001b[39m.ctx.usage)\n\u001b[32m--> \u001b[39m\u001b[32m163\u001b[39m result = \u001b[38;5;28;01mawait\u001b[39;00m \u001b[38;5;28mself\u001b[39m.toolset.call_tool(name, args_dict, ctx, tool)\n\u001b[32m    165\u001b[39m \u001b[38;5;28;01mif\u001b[39;00m count_tool_usage:\n\u001b[32m    166\u001b[39m     \u001b[38;5;28mself\u001b[39m.ctx.usage.tool_calls += \u001b[32m1\u001b[39m\n",
      "\u001b[36mFile \u001b[39m\u001b[32m/usr/local/python/3.12.1/lib/python3.12/site-packages/pydantic_ai/toolsets/combined.py:90\u001b[39m, in \u001b[36mCombinedToolset.call_tool\u001b[39m\u001b[34m(self, name, tool_args, ctx, tool)\u001b[39m\n\u001b[32m     86\u001b[39m \u001b[38;5;28;01masync\u001b[39;00m \u001b[38;5;28;01mdef\u001b[39;00m\u001b[38;5;250m \u001b[39m\u001b[34mcall_tool\u001b[39m(\n\u001b[32m     87\u001b[39m     \u001b[38;5;28mself\u001b[39m, name: \u001b[38;5;28mstr\u001b[39m, tool_args: \u001b[38;5;28mdict\u001b[39m[\u001b[38;5;28mstr\u001b[39m, Any], ctx: RunContext[AgentDepsT], tool: ToolsetTool[AgentDepsT]\n\u001b[32m     88\u001b[39m ) -> Any:\n\u001b[32m     89\u001b[39m     \u001b[38;5;28;01massert\u001b[39;00m \u001b[38;5;28misinstance\u001b[39m(tool, _CombinedToolsetTool)\n\u001b[32m---> \u001b[39m\u001b[32m90\u001b[39m     \u001b[38;5;28;01mreturn\u001b[39;00m \u001b[38;5;28;01mawait\u001b[39;00m tool.source_toolset.call_tool(name, tool_args, ctx, tool.source_tool)\n",
      "\u001b[36mFile \u001b[39m\u001b[32m/usr/local/python/3.12.1/lib/python3.12/site-packages/pydantic_ai/toolsets/function.py:344\u001b[39m, in \u001b[36mFunctionToolset.call_tool\u001b[39m\u001b[34m(self, name, tool_args, ctx, tool)\u001b[39m\n\u001b[32m    340\u001b[39m \u001b[38;5;28;01masync\u001b[39;00m \u001b[38;5;28;01mdef\u001b[39;00m\u001b[38;5;250m \u001b[39m\u001b[34mcall_tool\u001b[39m(\n\u001b[32m    341\u001b[39m     \u001b[38;5;28mself\u001b[39m, name: \u001b[38;5;28mstr\u001b[39m, tool_args: \u001b[38;5;28mdict\u001b[39m[\u001b[38;5;28mstr\u001b[39m, Any], ctx: RunContext[AgentDepsT], tool: ToolsetTool[AgentDepsT]\n\u001b[32m    342\u001b[39m ) -> Any:\n\u001b[32m    343\u001b[39m     \u001b[38;5;28;01massert\u001b[39;00m \u001b[38;5;28misinstance\u001b[39m(tool, FunctionToolsetTool)\n\u001b[32m--> \u001b[39m\u001b[32m344\u001b[39m     \u001b[38;5;28;01mreturn\u001b[39;00m \u001b[38;5;28;01mawait\u001b[39;00m tool.call_func(tool_args, ctx)\n",
      "\u001b[36mFile \u001b[39m\u001b[32m/usr/local/python/3.12.1/lib/python3.12/site-packages/pydantic_ai/_function_schema.py:55\u001b[39m, in \u001b[36mFunctionSchema.call\u001b[39m\u001b[34m(self, args_dict, ctx)\u001b[39m\n\u001b[32m     53\u001b[39m \u001b[38;5;28;01melse\u001b[39;00m:\n\u001b[32m     54\u001b[39m     function = cast(Callable[[Any], \u001b[38;5;28mstr\u001b[39m], \u001b[38;5;28mself\u001b[39m.function)\n\u001b[32m---> \u001b[39m\u001b[32m55\u001b[39m     \u001b[38;5;28;01mreturn\u001b[39;00m \u001b[38;5;28;01mawait\u001b[39;00m run_in_executor(function, *args, **kwargs)\n",
      "\u001b[36mFile \u001b[39m\u001b[32m/usr/local/python/3.12.1/lib/python3.12/site-packages/pydantic_ai/_utils.py:47\u001b[39m, in \u001b[36mrun_in_executor\u001b[39m\u001b[34m(func, *args, **kwargs)\u001b[39m\n\u001b[32m     45\u001b[39m \u001b[38;5;28;01masync\u001b[39;00m \u001b[38;5;28;01mdef\u001b[39;00m\u001b[38;5;250m \u001b[39m\u001b[34mrun_in_executor\u001b[39m(func: Callable[_P, _R], *args: _P.args, **kwargs: _P.kwargs) -> _R:\n\u001b[32m     46\u001b[39m     wrapped_func = partial(func, *args, **kwargs)\n\u001b[32m---> \u001b[39m\u001b[32m47\u001b[39m     \u001b[38;5;28;01mreturn\u001b[39;00m \u001b[38;5;28;01mawait\u001b[39;00m run_sync(wrapped_func)\n",
      "\u001b[36mFile \u001b[39m\u001b[32m~/.local/lib/python3.12/site-packages/anyio/to_thread.py:56\u001b[39m, in \u001b[36mrun_sync\u001b[39m\u001b[34m(func, abandon_on_cancel, cancellable, limiter, *args)\u001b[39m\n\u001b[32m     48\u001b[39m     abandon_on_cancel = cancellable\n\u001b[32m     49\u001b[39m     warn(\n\u001b[32m     50\u001b[39m         \u001b[33m\"\u001b[39m\u001b[33mThe `cancellable=` keyword argument to `anyio.to_thread.run_sync` is \u001b[39m\u001b[33m\"\u001b[39m\n\u001b[32m     51\u001b[39m         \u001b[33m\"\u001b[39m\u001b[33mdeprecated since AnyIO 4.1.0; use `abandon_on_cancel=` instead\u001b[39m\u001b[33m\"\u001b[39m,\n\u001b[32m     52\u001b[39m         \u001b[38;5;167;01mDeprecationWarning\u001b[39;00m,\n\u001b[32m     53\u001b[39m         stacklevel=\u001b[32m2\u001b[39m,\n\u001b[32m     54\u001b[39m     )\n\u001b[32m---> \u001b[39m\u001b[32m56\u001b[39m \u001b[38;5;28;01mreturn\u001b[39;00m \u001b[38;5;28;01mawait\u001b[39;00m get_async_backend().run_sync_in_worker_thread(\n\u001b[32m     57\u001b[39m     func, args, abandon_on_cancel=abandon_on_cancel, limiter=limiter\n\u001b[32m     58\u001b[39m )\n",
      "\u001b[36mFile \u001b[39m\u001b[32m~/.local/lib/python3.12/site-packages/anyio/_backends/_asyncio.py:2470\u001b[39m, in \u001b[36mAsyncIOBackend.run_sync_in_worker_thread\u001b[39m\u001b[34m(cls, func, args, abandon_on_cancel, limiter)\u001b[39m\n\u001b[32m   2467\u001b[39m     worker_scope = scope._parent_scope\n\u001b[32m   2469\u001b[39m worker.queue.put_nowait((context, func, args, future, worker_scope))\n\u001b[32m-> \u001b[39m\u001b[32m2470\u001b[39m \u001b[38;5;28;01mreturn\u001b[39;00m \u001b[38;5;28;01mawait\u001b[39;00m future\n",
      "\u001b[36mFile \u001b[39m\u001b[32m~/.local/lib/python3.12/site-packages/anyio/_backends/_asyncio.py:967\u001b[39m, in \u001b[36mWorkerThread.run\u001b[39m\u001b[34m(self)\u001b[39m\n\u001b[32m    965\u001b[39m threadlocals.current_cancel_scope = cancel_scope\n\u001b[32m    966\u001b[39m \u001b[38;5;28;01mtry\u001b[39;00m:\n\u001b[32m--> \u001b[39m\u001b[32m967\u001b[39m     result = \u001b[43mcontext\u001b[49m\u001b[43m.\u001b[49m\u001b[43mrun\u001b[49m\u001b[43m(\u001b[49m\u001b[43mfunc\u001b[49m\u001b[43m,\u001b[49m\u001b[43m \u001b[49m\u001b[43m*\u001b[49m\u001b[43margs\u001b[49m\u001b[43m)\u001b[49m\n\u001b[32m    968\u001b[39m \u001b[38;5;28;01mexcept\u001b[39;00m \u001b[38;5;167;01mBaseException\u001b[39;00m \u001b[38;5;28;01mas\u001b[39;00m exc:\n\u001b[32m    969\u001b[39m     exception = exc\n",
      "\u001b[36mCell\u001b[39m\u001b[36m \u001b[39m\u001b[32mIn[14]\u001b[39m\u001b[32m, line 13\u001b[39m, in \u001b[36mtext_search\u001b[39m\u001b[34m(query)\u001b[39m\n\u001b[32m      3\u001b[39m \u001b[38;5;28;01mdef\u001b[39;00m\u001b[38;5;250m \u001b[39m\u001b[34mtext_search\u001b[39m(query: \u001b[38;5;28mstr\u001b[39m) -> List[Any]:\n\u001b[32m      4\u001b[39m \u001b[38;5;250m    \u001b[39m\u001b[33;03m\"\"\"\u001b[39;00m\n\u001b[32m      5\u001b[39m \u001b[33;03m    Perform a text-based search on the FAQ index.\u001b[39;00m\n\u001b[32m      6\u001b[39m \n\u001b[32m   (...)\u001b[39m\u001b[32m     11\u001b[39m \u001b[33;03m        List[Any]: A list of up to 5 search results returned by the FAQ index.\u001b[39;00m\n\u001b[32m     12\u001b[39m \u001b[33;03m    \"\"\"\u001b[39;00m\n\u001b[32m---> \u001b[39m\u001b[32m13\u001b[39m     \u001b[38;5;28;01mreturn\u001b[39;00m \u001b[43mfaq_index\u001b[49m.search(query, num_results=\u001b[32m5\u001b[39m)\n",
      "\u001b[31mNameError\u001b[39m: name 'faq_index' is not defined"
     ]
    }
   ],
   "source": [
    "question = \"I just discovered the course, can I join now?\"\n",
    "\n",
    "result = await agent.run(user_prompt=question)\n"
   ]
  },
  {
   "cell_type": "code",
   "execution_count": null,
   "id": "c95320a8",
   "metadata": {},
   "outputs": [],
   "source": [
    "import asyncio\n",
    "\n",
    "result = asyncio.run(agent.run(user_prompt=question))\n"
   ]
  },
  {
   "cell_type": "code",
   "execution_count": null,
   "id": "556f25ed",
   "metadata": {},
   "outputs": [],
   "source": [
    "result.new_messages()\n"
   ]
  },
  {
   "cell_type": "code",
   "execution_count": null,
   "id": "11fd32ec",
   "metadata": {},
   "outputs": [],
   "source": []
  },
  {
   "cell_type": "code",
   "execution_count": null,
   "id": "e4624c34",
   "metadata": {},
   "outputs": [],
   "source": []
  },
  {
   "cell_type": "code",
   "execution_count": null,
   "id": "33a4098b",
   "metadata": {},
   "outputs": [],
   "source": []
  },
  {
   "cell_type": "code",
   "execution_count": null,
   "id": "543d9d63",
   "metadata": {},
   "outputs": [],
   "source": []
  }
 ],
 "metadata": {
  "kernelspec": {
   "display_name": "Python 3",
   "language": "python",
   "name": "python3"
  },
  "language_info": {
   "codemirror_mode": {
    "name": "ipython",
    "version": 3
   },
   "file_extension": ".py",
   "mimetype": "text/x-python",
   "name": "python",
   "nbconvert_exporter": "python",
   "pygments_lexer": "ipython3",
   "version": "3.12.1"
  }
 },
 "nbformat": 4,
 "nbformat_minor": 5
}
